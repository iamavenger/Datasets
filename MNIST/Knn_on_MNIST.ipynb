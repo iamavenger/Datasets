{
 "cells": [
  {
   "cell_type": "markdown",
   "id": "05cb7f53-a2ac-44e3-a696-fa3a7756bf9a",
   "metadata": {},
   "source": [
    "# Implementing K-NN on MNIST Dataset"
   ]
  },
  {
   "cell_type": "code",
   "execution_count": 16,
   "id": "284ca0bf-c9b1-409e-a88e-ba4cabb4884c",
   "metadata": {},
   "outputs": [],
   "source": [
    "# Dataloader implemention for MNIST DATASET (csv)\n",
    "\n",
    "import numpy as np\n",
    "import pandas as pd\n",
    "\n",
    "\n",
    "def load_mnistcsv(path):\n",
    "    try:\n",
    "        df = pd.read_csv(path)\n",
    "        data = df.iloc[:, 1:]\n",
    "        data = Normalization(data)\n",
    "        data_labels = df.iloc[:, 0]\n",
    "        print(\"Data Loaded Successfully. \")\n",
    "        return np.array(data), np.array(data_labels)\n",
    "    except:\n",
    "        print(\"Error\")\n",
    "\n",
    "# Normalize pixel values to [0, 1]\n",
    "def Normalization(data):\n",
    "    return data / 255.0"
   ]
  },
  {
   "cell_type": "code",
   "execution_count": 17,
   "id": "f3a7e8fc-d873-4cb6-88ae-caf7d3dd3834",
   "metadata": {},
   "outputs": [
    {
     "name": "stdout",
     "output_type": "stream",
     "text": [
      "Data Loaded Successfully. \n",
      "Data Loaded Successfully. \n"
     ]
    }
   ],
   "source": [
    "# Download dataset from -> https://github.com/iamavenger/Datasets/releases/download/DATASETS/MNIST_DATASET_CSV.zip\n",
    "\n",
    "train_data, train_labels = load_mnistcsv(r\"MNIST_DATASET_CSV/mnist_train.cs\") \n",
    "test_data, test_labels = load_mnistcsv(r\"MNIST_DATASET_CSV/mnist_test.csv\")"
   ]
  },
  {
   "cell_type": "code",
   "execution_count": 18,
   "id": "5e66b929-9919-431d-b8d4-e26de13f0991",
   "metadata": {},
   "outputs": [],
   "source": [
    "# Implementing k-nearest neighbor algorithm from scratch -> Using L2 Distance ( Ecludian Distance )\n",
    "\n",
    "from collections import Counter\n",
    "\n",
    "class KNN():\n",
    "    def __init__(self, k):\n",
    "        self.k = k\n",
    "\n",
    "    def fit(self, train_data, train_labels):\n",
    "        self.train_data = train_data\n",
    "        self.train_labels = train_labels\n",
    "\n",
    "    \"\"\" def euclidean_distance(self, data_point1, data_point2):\n",
    "        return np.srqt(np.sum((data_point1 - data_point2) ** 2)) \"\"\"\n",
    "    \n",
    "\n",
    "    def predict(self, test_data):\n",
    "        predictions = []\n",
    "        for test_sample in test_data:\n",
    "            distances = np.linalg.norm(self.train_data - test_sample, axis=1)\n",
    "            nearest_neighbours = np.argsort(distances)[:self.k]\n",
    "            nearest_labels = self.train_labels[nearest_neighbours]\n",
    "\n",
    "            most_common_label = Counter(nearest_labels).most_common(1)[0][0]\n",
    "            predictions.append(most_common_label)\n",
    "        return np.array(predictions)\n",
    "    "
   ]
  },
  {
   "cell_type": "code",
   "execution_count": 19,
   "id": "7c36fcd5-af03-4f29-8862-bcc3a5c523f7",
   "metadata": {},
   "outputs": [
    {
     "name": "stdout",
     "output_type": "stream",
     "text": [
      "Accuracy: 91.10 %\n"
     ]
    }
   ],
   "source": [
    "knn = KNN(k = 3) # K = 3\n",
    "knn.fit(train_data[:4000], train_labels[:4000]) # Training on 4000 images\n",
    "accuracy = np.mean(knn.predict(test_data[:1000]) == test_labels[:1000] ) * 100 # Calculating accuracy on 1000 test images\n",
    "\n",
    "print(f\"Accuracy: {accuracy:.2f} %\")\n"
   ]
  },
  {
   "cell_type": "code",
   "execution_count": 20,
   "id": "ecb8ede2-d352-4a26-bd84-f099d42bd631",
   "metadata": {},
   "outputs": [],
   "source": [
    "%matplotlib inline"
   ]
  },
  {
   "cell_type": "code",
   "execution_count": null,
   "id": "14a89cc2-4466-47e8-be7c-7e9c7e9b813a",
   "metadata": {},
   "outputs": [],
   "source": [
    "# Setting Hyperparameters\n",
    "import matplotlib.pyplot as plt\n",
    "\n",
    "\n",
    "def hyperpar(k):\n",
    "    knn = KNN(k = 3) # K = 3\n",
    "    knn.fit(train_data[:4000], train_labels[:4000]) # Training on 4000 images\n",
    "    accuracy = np.mean(knn.predict(test_data[:1000]) == test_labels[:1000] ) * 100\n",
    "    return accuracy\n",
    "\n",
    "x_points = []\n",
    "y_points = []\n",
    "\n",
    "for i in range(1, 8):\n",
    "    x_points.append(i)\n",
    "    y_points.append(hyperpar(i))\n",
    "\n",
    "plt.plot(x_points, y_points)\n",
    "plt.xlabel('k- value')\n",
    "plt.ylabel('Accuracy')\n",
    "plt.title(\"K - Value vs Accuracy\")\n",
    "\n",
    "plot.show()\n"
   ]
  }
 ],
 "metadata": {
  "kernelspec": {
   "display_name": "Python 3 (ipykernel)",
   "language": "python",
   "name": "python3"
  },
  "language_info": {
   "codemirror_mode": {
    "name": "ipython",
    "version": 3
   },
   "file_extension": ".py",
   "mimetype": "text/x-python",
   "name": "python",
   "nbconvert_exporter": "python",
   "pygments_lexer": "ipython3",
   "version": "3.12.1"
  },
  "widgets": {
   "application/vnd.jupyter.widget-state+json": {
    "state": {},
    "version_major": 2,
    "version_minor": 0
   }
  }
 },
 "nbformat": 4,
 "nbformat_minor": 5
}
